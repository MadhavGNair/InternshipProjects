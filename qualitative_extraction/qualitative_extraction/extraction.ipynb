{
 "cells": [
  {
   "cell_type": "code",
   "execution_count": null,
   "metadata": {},
   "outputs": [],
   "source": [
    "import os\n",
    "import json\n",
    "import numpy as np\n",
    "import openai\n",
    "from typing import List, Dict\n",
    "from sentence_transformers import SentenceTransformer\n",
    "from sklearn.metrics.pairwise import cosine_similarity"
   ]
  },
  {
   "cell_type": "code",
   "execution_count": null,
   "metadata": {},
   "outputs": [],
   "source": [
    "OPENAI_API_KEY = \"API KEY HERE\"\n",
    "MODEL=\"gpt-4o-mini\"\n",
    "\n",
    "client = openai.OpenAI(api_key=OPENAI_API_KEY)"
   ]
  },
  {
   "cell_type": "code",
   "execution_count": null,
   "metadata": {},
   "outputs": [],
   "source": [
    "def load_json_files(folder_path):\n",
    "    json_data = []\n",
    "    for filename in os.listdir(folder_path):\n",
    "        if filename.endswith('.json'):\n",
    "            with open(os.path.join(folder_path, filename), 'r') as file:\n",
    "                data = json.load(file)\n",
    "                json_data.append(data['page_content'])\n",
    "    return json_data"
   ]
  },
  {
   "cell_type": "code",
   "execution_count": null,
   "metadata": {},
   "outputs": [],
   "source": [
    "# jinaai similarity function\n",
    "def get_similar_questions(page_embedding, atomic_embeddings, top_n):\n",
    "    similarities = [cosine_similarity(page_embedding.reshape(1, -1), ae.reshape(1, -1))[0][0] for ae in atomic_embeddings]\n",
    "    \n",
    "    top_indices = np.argsort(similarities)[-top_n:][::-1]\n",
    "    \n",
    "    return top_indices"
   ]
  },
  {
   "cell_type": "code",
   "execution_count": null,
   "metadata": {},
   "outputs": [],
   "source": [
    "# openai similarity function (currently only for one page)\n",
    "def find_top_similar_embeddings(page_embeddings, atomic_embeddings, top_n=20):\n",
    "    page_embedding = np.array(page_embeddings[0])\n",
    "    \n",
    "    atomic_embeddings_array = np.array(atomic_embeddings)\n",
    "\n",
    "    similarities = cosine_similarity([page_embedding], atomic_embeddings_array)[0]\n",
    "    \n",
    "    top_indices = np.argsort(similarities)[-top_n:][::-1]\n",
    "    \n",
    "    return top_indices.tolist()"
   ]
  },
  {
   "cell_type": "code",
   "execution_count": null,
   "metadata": {},
   "outputs": [],
   "source": [
    "data_chunks = load_json_files('./testing/testing_json')"
   ]
  },
  {
   "cell_type": "code",
   "execution_count": null,
   "metadata": {},
   "outputs": [],
   "source": [
    "with open('./testing/combined_test.txt', 'r') as f:\n",
    "    atomic_chunks = [line.rstrip() for line in f]"
   ]
  },
  {
   "cell_type": "code",
   "execution_count": null,
   "metadata": {},
   "outputs": [],
   "source": [
    "model = SentenceTransformer(\"jinaai/jina-embeddings-v2-base-en\", trust_remote_code=True)\n",
    "model.max_seq_length = 1024"
   ]
  },
  {
   "cell_type": "code",
   "execution_count": null,
   "metadata": {},
   "outputs": [],
   "source": [
    "page_embeddings_response = client.embeddings.create(\n",
    "    input=data_chunks,\n",
    "    model=\"text-embedding-3-small\"\n",
    ")\n",
    "\n",
    "atomic_embeddings_response = client.embeddings.create(\n",
    "    input=atomic_chunks,\n",
    "    model=\"text-embedding-3-small\"\n",
    ")"
   ]
  },
  {
   "cell_type": "code",
   "execution_count": null,
   "metadata": {},
   "outputs": [],
   "source": [
    "# extract embeddings\n",
    "page_embeddings_openai = [page_embeddings_response.data[0].embedding]\n",
    "atomic_embeddings_openai = [item.embedding for item in atomic_embeddings_response.data]\n",
    "# store token counts\n",
    "page_token_count_openai = page_embeddings_response.usage.prompt_tokens\n",
    "atomic_token_count_openai = atomic_embeddings_response.usage.prompt_tokens"
   ]
  },
  {
   "cell_type": "code",
   "execution_count": null,
   "metadata": {},
   "outputs": [],
   "source": [
    "page_embeddings = model.encode(data_chunks)\n",
    "atomic_embeddings = model.encode(atomic_chunks)"
   ]
  },
  {
   "cell_type": "code",
   "execution_count": null,
   "metadata": {},
   "outputs": [],
   "source": [
    "relevant_incides = get_similar_questions(page_embeddings[0], atomic_embeddings, top_n=20)\n",
    "# relevant_incides = find_top_similar_embeddings(page_embeddings_openai, atomic_embeddings_openai, top_n=20)\n",
    "print(relevant_incides)"
   ]
  },
  {
   "cell_type": "code",
   "execution_count": null,
   "metadata": {},
   "outputs": [],
   "source": [
    "print(data_chunks[0])"
   ]
  },
  {
   "cell_type": "code",
   "execution_count": null,
   "metadata": {},
   "outputs": [],
   "source": [
    "for i in relevant_incides:\n",
    "    print(atomic_chunks[i])"
   ]
  },
  {
   "cell_type": "code",
   "execution_count": null,
   "metadata": {},
   "outputs": [],
   "source": [
    "# COMPUTING RECALL\n",
    "# XY_chunks = positive samples in the data\n",
    "# atomic_list = samples model detected as positive\n",
    "with open('./testing/tax_test.txt', 'r') as f:\n",
    "    XY_chunks = [line.rstrip() for line in f]\n",
    "\n",
    "atomic_list = [atomic_chunks[q] for q in relevant_incides]\n",
    "count = 0\n",
    "for i in atomic_list:\n",
    "    if(i in XY_chunks):\n",
    "        count += 1\n",
    "print(count)\n",
    "print(count*100/len(XY_chunks))"
   ]
  },
  {
   "cell_type": "code",
   "execution_count": null,
   "metadata": {},
   "outputs": [],
   "source": [
    "def extract_data(context: str, questions: List[str], model_name: str) -> List[Dict]:    \n",
    "    def format_q_a(question: str, answer: str, snippet: str, input_tokens: int, output_tokens: int) -> Dict:\n",
    "        return {\n",
    "            \"question\": question,\n",
    "            \"answer\": answer,\n",
    "            \"relevant_snippet\": snippet,\n",
    "            \"input_tokens\": input_tokens,\n",
    "            \"output_tokens\": output_tokens\n",
    "        }\n",
    "\n",
    "    system_message = {\"role\": \"system\", \n",
    "                      \"content\": \"You are an expert at analyzing corporate reports and answering questions with a 'Yes' or 'No'.\\\n",
    "                        You only answer 'Yes' if you find evidence to do so from the provided report. Otherwise, answer with 'No'. \\\n",
    "                        If evidence is found, save the snippet of text where the evidence is.\"}\n",
    "    context_message = {\"role\": \"user\", \n",
    "                       \"content\": f\"Here's an excerpt from a corporate report:\\n\\n{context}\\n\\nPlease answer the following questions based \\\n",
    "                        on this text. If the answer is clearly 'Yes' based on the text, provide the relevant snippet. If the answer is 'No' \\\n",
    "                        answer 'No' and provide the relevant snippet. If the answer is not mentioned, just answer 'No' and 'Not Found' as the \\\n",
    "                        snippet.\"}\n",
    "\n",
    "    functions = [\n",
    "        {\n",
    "            \"name\": \"answer_question\",\n",
    "            \"description\": \"Answers a question based on the provided context\",\n",
    "            \"parameters\": {\n",
    "                \"type\": \"object\",\n",
    "                \"properties\": {\n",
    "                    \"question\": {\"type\": \"string\", \"description\": \"The question to be answered\"},\n",
    "                    \"answer\": {\"type\": \"string\", \"enum\": [\"Yes\", \"No\"], \"description\": \"The answer to the question\"},\n",
    "                    \"snippet\": {\"type\": \"string\", \"description\": \"The relevant text snippet if the answer is Yes, otherwise an empty string\"}\n",
    "                },\n",
    "                \"required\": [\"question\", \"answer\", \"snippet\"]\n",
    "            }\n",
    "        }\n",
    "    ]\n",
    "\n",
    "    results = []\n",
    "\n",
    "    for question in questions:\n",
    "        messages = [system_message, context_message, {\"role\": \"user\", \"content\": question}]\n",
    "        \n",
    "        response = client.chat.completions.create(\n",
    "            model=model_name,\n",
    "            messages=messages,\n",
    "            functions=functions,\n",
    "            function_call={\"name\": \"answer_question\"}\n",
    "        )\n",
    "\n",
    "        response_message = response.choices[0].message\n",
    "        \n",
    "        if response_message.function_call:\n",
    "            function_args = json.loads(response_message.function_call.arguments)\n",
    "            results.append(format_q_a(\n",
    "                question=function_args[\"question\"],\n",
    "                answer=function_args[\"answer\"],\n",
    "                snippet=function_args[\"snippet\"],\n",
    "                input_tokens=response.usage.prompt_tokens,\n",
    "                output_tokens=response.usage.completion_tokens\n",
    "            ))\n",
    "\n",
    "    return results"
   ]
  },
  {
   "cell_type": "code",
   "execution_count": null,
   "metadata": {},
   "outputs": [],
   "source": [
    "output = extract_data(data_chunks[0], atomic_list, MODEL)"
   ]
  },
  {
   "cell_type": "code",
   "execution_count": null,
   "metadata": {},
   "outputs": [],
   "source": [
    "# saving the output file as json\n",
    "output_filename = \"tax_output.json\"\n",
    "with open(output_filename, \"w\", encoding=\"utf-8\") as f:\n",
    "    json.dump(output, f, ensure_ascii=False, indent=2)"
   ]
  },
  {
   "cell_type": "code",
   "execution_count": null,
   "metadata": {},
   "outputs": [],
   "source": [
    "# evaluate the output\n",
    "def load_json_file(file_path):\n",
    "    with open(file_path, 'r', encoding='utf-8') as file:\n",
    "        data = json.load(file)\n",
    "    return data\n",
    "\n",
    "\n",
    "file_path = './output/tax_output.json'\n",
    "loaded_data = load_json_file(file_path)\n",
    "\n",
    "total_input_tokens = 0\n",
    "total_output_tokens = 0\n",
    "yes_questions = []\n",
    "\n",
    "for item in loaded_data:\n",
    "    total_input_tokens += item['input_tokens']\n",
    "    total_output_tokens += item['output_tokens']\n",
    "    if item['answer'] == 'Yes':\n",
    "        yes_questions.append(item['question'])"
   ]
  },
  {
   "cell_type": "code",
   "execution_count": null,
   "metadata": {},
   "outputs": [],
   "source": [
    "true_yes_questions = [\n",
    "    'Does the company publicly disclose its tax strategy or policy?', \n",
    "    'Does the company disclose its effective tax rate and explain any significant variations?', \n",
    "    'Has the company implemented a responsible tax principles framework?', \n",
    "    'Has the company implemented a whistleblowing mechanism for tax-related concerns?', \n",
    "    'Does the company provide transparency on its tax governance structure?', \n",
    "    'Does the company report on its engagement with tax authorities and stakeholders?'\n",
    "]\n",
    "yes_count = 0\n",
    "for item in yes_questions:\n",
    "    if item in true_yes_questions:\n",
    "        yes_count += 1\n",
    "\n",
    "print(yes_count*100/len(true_yes_questions))"
   ]
  }
 ],
 "metadata": {
  "kernelspec": {
   "display_name": "data-extraction-_uUWCVve-py3.12",
   "language": "python",
   "name": "python3"
  },
  "language_info": {
   "codemirror_mode": {
    "name": "ipython",
    "version": 3
   },
   "file_extension": ".py",
   "mimetype": "text/x-python",
   "name": "python",
   "nbconvert_exporter": "python",
   "pygments_lexer": "ipython3",
   "version": "3.12.3"
  }
 },
 "nbformat": 4,
 "nbformat_minor": 2
}
